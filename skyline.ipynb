{
 "cells": [
  {
   "cell_type": "code",
   "execution_count": null,
   "id": "e455719c",
   "metadata": {},
   "outputs": [],
   "source": [
    "import matplotlib.pyplot as plt\n",
    "from matplotlib.ticker import MultipleLocator"
   ]
  },
  {
   "cell_type": "code",
   "execution_count": null,
   "id": "c498be36",
   "metadata": {},
   "outputs": [],
   "source": [
    "def merge_skyline(left, right):\n",
    "\tresult = []\n",
    "\th1 = h2 = 0\n",
    "\ti = j = 0\n",
    "\n",
    "\twhile i < len(left) and j < len(right):\n",
    "\t\tif left[i][0] < right[j][0]:\n",
    "\t\t\tx, h1 = left[i]\n",
    "\t\t\ti += 1\n",
    "\t\telif right[j][0] < left[i][0]:\n",
    "\t\t\tx, h2 = right[j]\n",
    "\t\t\tj += 1\n",
    "\t\telse:\n",
    "\t\t\tx, h1 = left[i]\n",
    "\t\t\th2 = right[j][1]\n",
    "\t\t\ti += 1\n",
    "\t\t\tj += 1\n",
    "\t\tmax_height = max(h1, h2)\n",
    "\t\tif not result or result[-1][1] != max_height:\n",
    "\t\t\tresult.append((x, max_height))\n",
    "\t\n",
    "\tresult.extend(left[i:])\n",
    "\tresult.extend(right[j:])\n",
    "\treturn result\n",
    "\n",
    "def skyline(buildings):\n",
    "\tif not buildings:\n",
    "\t\treturn []\n",
    "\tif len(buildings) == 1:\n",
    "\t\tl, h, r = buildings[0]\n",
    "\t\treturn [(l, h), (r, 0)]\n",
    "\n",
    "\tmid = len(buildings) // 2\n",
    "\tleft_sky = skyline(buildings[:mid])\n",
    "\tright_sky = skyline(buildings[mid:])\n",
    "\treturn merge_skyline(left_sky, right_sky)\n",
    "\n",
    "def draw_skyline(points):\n",
    "\txs, ys = [points[0][0]], [0]\n",
    "\n",
    "\tfor i in range(len(points)):\n",
    "\t\tx, y = points[i]\n",
    "\t\txs.append(x)\n",
    "\t\tys.append(y)\n",
    "\t\tif i + 1 < len(points):\n",
    "\t\t\tx_next = points[i + 1][0]\n",
    "\t\t\txs.append(x_next)\n",
    "\t\t\tys.append(y)\n",
    "\n",
    "\tplt.figure(figsize=(10, 5))\n",
    "\tplt.plot(xs, ys, drawstyle='steps-post', color='blue', linewidth=2)\n",
    "\tplt.fill_between(xs, ys, step=\"post\", alpha=0.3, color='skyblue')\n",
    "\tplt.title(\"Skyline Resultante\")\n",
    "\tplt.xlabel(\"Posição X\")\n",
    "\tplt.ylabel(\"Altura\")\n",
    "\tplt.grid(True)\n",
    "\n",
    "\tax = plt.gca()\n",
    "\tax.xaxis.set_major_locator(MultipleLocator(1))\n",
    "\tax.yaxis.set_major_locator(MultipleLocator(1))\n",
    "\tplt.xlim(left=0)\n",
    "\n",
    "\tplt.show()"
   ]
  },
  {
   "cell_type": "markdown",
   "id": "7495de27",
   "metadata": {},
   "source": [
    "## Examples"
   ]
  },
  {
   "cell_type": "code",
   "execution_count": null,
   "id": "e5c14453",
   "metadata": {},
   "outputs": [],
   "source": [
    "buildings = [(2, 10, 9), (3, 15, 7), (5, 12, 12), (13, 10, 16), (15, 8, 20), (8, 13, 14)]\n",
    "result = skyline(buildings)\n",
    "print(\"Skyline 1:\", result)\n",
    "draw_skyline(result)"
   ]
  },
  {
   "cell_type": "code",
   "execution_count": null,
   "id": "3be08ff4",
   "metadata": {},
   "outputs": [],
   "source": [
    "buildings = [(2, 5, 10), (3, 7, 15), (8, 11, 11)]\n",
    "result = skyline(buildings)\n",
    "print(\"Skyline 2:\", result)\n",
    "draw_skyline(result)"
   ]
  }
 ],
 "metadata": {
  "kernelspec": {
   "display_name": "venv",
   "language": "python",
   "name": "python3"
  },
  "language_info": {
   "codemirror_mode": {
    "name": "ipython",
    "version": 3
   },
   "file_extension": ".py",
   "mimetype": "text/x-python",
   "name": "python",
   "nbconvert_exporter": "python",
   "pygments_lexer": "ipython3",
   "version": "3.13.2"
  }
 },
 "nbformat": 4,
 "nbformat_minor": 5
}
